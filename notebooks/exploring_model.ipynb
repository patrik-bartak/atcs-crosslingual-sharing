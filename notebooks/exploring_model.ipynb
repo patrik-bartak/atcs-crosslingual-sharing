{
 "cells": [
  {
   "cell_type": "code",
   "id": "initial_id",
   "metadata": {
    "collapsed": true,
    "ExecuteTime": {
     "end_time": "2024-05-18T10:55:30.487904Z",
     "start_time": "2024-05-18T10:55:29.021513Z"
    }
   },
   "source": [
    "from transformers import AutoModelForSequenceClassification, AutoTokenizer\n",
    "\n",
    "\n",
    "XLM_R = \"FacebookAI/xlm-roberta-base\"\n",
    "\n",
    "# Specify the checkpoint path or name\n",
    "checkpoint = \"../FacebookAI_snellius/xlm-roberta-base-xnli/checkpoint-20000\"\n",
    "\n",
    "# Load the tokenizer\n",
    "tokenizer = AutoTokenizer.from_pretrained(XLM_R)\n",
    "\n",
    "# Load the model\n",
    "model_pt = AutoModelForSequenceClassification.from_pretrained(XLM_R, num_labels=3)\n",
    "model_ft = AutoModelForSequenceClassification.from_pretrained(checkpoint)\n",
    "\n",
    "# Example: Using the model and tokenizer\n",
    "inputs = tokenizer(\n",
    "    [\n",
    "        \"Hello, this is a test!\",\n",
    "        \"another test\",\n",
    "        \"unrelated sentence\",\n",
    "        \"asdlfhblasdihf asfpojdanfbads asjdfnkasbf jionpdbjfsg\",\n",
    "    ],\n",
    "    return_tensors=\"pt\",\n",
    "    padding=True,\n",
    ")\n",
    "outputs_pt = model_pt(**inputs)\n",
    "outputs_ft = model_ft(**inputs)\n",
    "\n",
    "print(outputs_pt)\n",
    "print(outputs_ft)"
   ],
   "outputs": [
    {
     "name": "stderr",
     "output_type": "stream",
     "text": [
      "Some weights of XLMRobertaForSequenceClassification were not initialized from the model checkpoint at FacebookAI/xlm-roberta-base and are newly initialized: ['classifier.dense.bias', 'classifier.dense.weight', 'classifier.out_proj.bias', 'classifier.out_proj.weight']\n",
      "You should probably TRAIN this model on a down-stream task to be able to use it for predictions and inference.\n"
     ]
    },
    {
     "name": "stdout",
     "output_type": "stream",
     "text": [
      "SequenceClassifierOutput(loss=None, logits=tensor([[-0.0609, -0.0139,  0.0673],\n",
      "        [-0.1012, -0.0038,  0.0321],\n",
      "        [-0.1102, -0.0044,  0.0314],\n",
      "        [-0.1125, -0.0058,  0.0184]], grad_fn=<AddmmBackward0>), hidden_states=None, attentions=None)\n",
      "SequenceClassifierOutput(loss=None, logits=tensor([[0.0654, 0.0531, 0.0642],\n",
      "        [0.0654, 0.0531, 0.0642],\n",
      "        [0.0654, 0.0531, 0.0642],\n",
      "        [0.0654, 0.0531, 0.0642]], grad_fn=<AddmmBackward0>), hidden_states=None, attentions=None)\n"
     ]
    }
   ],
   "execution_count": 10
  },
  {
   "metadata": {},
   "cell_type": "code",
   "outputs": [],
   "execution_count": null,
   "source": "",
   "id": "e809e7dfe6d80482"
  }
 ],
 "metadata": {
  "kernelspec": {
   "display_name": "Python 3",
   "language": "python",
   "name": "python3"
  },
  "language_info": {
   "codemirror_mode": {
    "name": "ipython",
    "version": 2
   },
   "file_extension": ".py",
   "mimetype": "text/x-python",
   "name": "python",
   "nbconvert_exporter": "python",
   "pygments_lexer": "ipython2",
   "version": "2.7.6"
  }
 },
 "nbformat": 4,
 "nbformat_minor": 5
}
